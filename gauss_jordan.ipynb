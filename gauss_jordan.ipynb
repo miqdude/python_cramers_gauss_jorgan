{
 "cells": [
  {
   "cell_type": "markdown",
   "id": "5edba0ad-e434-4a56-bbd6-e7d88ec1cfb4",
   "metadata": {},
   "source": [
    "# Gauss-Jordan"
   ]
  },
  {
   "cell_type": "code",
   "execution_count": 176,
   "id": "56cfe3d3-fe95-466a-9d68-0ef524b039d0",
   "metadata": {},
   "outputs": [],
   "source": [
    "def gaussJordan(A,b):\n",
    "\tif len(A) == 1:\n",
    "\t\treturn b[0]\n",
    "        \n",
    "\tif len(A) != len(A[0]):\n",
    "\t\tprint(\"Must be a square matrix!\")\n",
    "\t\treturn\n",
    "\n",
    "\t# eliminate below main diagonal      \n",
    "\tfor col in range(len(A)-1):\n",
    "\t\t# select the row below\n",
    "\t\tfor row in range(col+1, len(A)):\n",
    "\t\t\tif A[col][col] == 0:\n",
    "\t\t\t\tcontinue\n",
    "\t\t\tscalingBot = A[row][col]/A[col][col]\n",
    "\t\t\t\n",
    "\t\t\t# elimnate the entire column\n",
    "\t\t\tfor coll in range(len(A)):\n",
    "\t\t\t\tA[row][coll] = A[row][coll] - scalingBot * A[col][coll]\n",
    "\t\t\t\t\n",
    "\t\t\tb[row] = b[row] - scalingBot * b[col]\n",
    "\t\n",
    "\t# do the same thing on above main diagonal      \n",
    "\tfor col in range(len(A)-1,0,-1):\n",
    "\t\tfor row in range(col-1, -1, -1):\n",
    "\t\t\tif A[col][col] == 0:\n",
    "\t\t\t\tcontinue\n",
    "\n",
    "\t\t\tscalingBot = A[row][col]/A[col][col]\n",
    "\t\t\tfor coll in range(len(A)):\n",
    "\t\t\t\tA[row][coll] = A[row][coll] - scalingBot * A[col][coll]\n",
    "\t\t\t\n",
    "\t\t\tb[row] = b[row] - scalingBot * b[col]\n",
    "\n",
    "\treturn [b[idx]/A[idx][idx] for idx in range(len(A))]"
   ]
  },
  {
   "cell_type": "code",
   "execution_count": 203,
   "id": "729c828e",
   "metadata": {},
   "outputs": [],
   "source": [
    "# https://stackoverflow.com/questions/7618858/how-to-to-read-a-matrix-from-a-given-file\n",
    "def readFile(filename = \"test_case_1.txt\"):\n",
    "\tmatrix = []\n",
    "\twith open(filename, 'r') as f:\n",
    "\t\tmatrix = [[float(num) for num in line.split(\" \")]for line in f]\n",
    "\n",
    "\tA = [[el for el in vect[:len(matrix)]] for vect in matrix]\n",
    "\tb = [vect[-1] for vect in matrix]\n",
    "\n",
    "\treturn A,b"
   ]
  },
  {
   "cell_type": "code",
   "execution_count": 206,
   "id": "7eca3e49",
   "metadata": {},
   "outputs": [
    {
     "name": "stdout",
     "output_type": "stream",
     "text": [
      "[2.0, 3.0, -1.0]\n"
     ]
    }
   ],
   "source": [
    "A, b = readFile(filename=\"test_case_1.txt\")\n",
    "res = gaussJordan(A,b)\n",
    "\n",
    "print(res)"
   ]
  }
 ],
 "metadata": {
  "kernelspec": {
   "display_name": "Python 3 (ipykernel)",
   "language": "python",
   "name": "python3"
  },
  "language_info": {
   "codemirror_mode": {
    "name": "ipython",
    "version": 3
   },
   "file_extension": ".py",
   "mimetype": "text/x-python",
   "name": "python",
   "nbconvert_exporter": "python",
   "pygments_lexer": "ipython3",
   "version": "3.11.10"
  }
 },
 "nbformat": 4,
 "nbformat_minor": 5
}
