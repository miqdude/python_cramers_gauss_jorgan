{
 "cells": [
  {
   "cell_type": "markdown",
   "id": "5edba0ad-e434-4a56-bbd6-e7d88ec1cfb4",
   "metadata": {},
   "source": [
    "# Gauss-Jordan"
   ]
  },
  {
   "cell_type": "code",
   "execution_count": 2,
   "id": "56cfe3d3-fe95-466a-9d68-0ef524b039d0",
   "metadata": {},
   "outputs": [],
   "source": [
    "def gaussJordan(A,b):\n",
    "    for row in range(len(A)):\n",
    "        # below\n",
    "        if row + 1 < len(A):\n",
    "            scalingBot = A[row+1][row]/A[row][row]\n",
    "\n",
    "        # top\n",
    "        if row - 1 >= 0:\n",
    "            scalingTop = A[row-1][row]/A[row][row]\n",
    "        \n",
    "        for col in range(len(A)):\n",
    "            # below\n",
    "            if row + 1 < len(A):\n",
    "                A[row+1][col] = A[row+1][col] - scalingBot * A[row][col]\n",
    "\n",
    "            # top\n",
    "            if row - 1 >= 0:\n",
    "                A[row-1][col] = A[row-1][col] - scalingTop * A[row][col]\n",
    "\n",
    "        print(A)"
   ]
  },
  {
   "cell_type": "code",
   "execution_count": 3,
   "id": "297fc155",
   "metadata": {},
   "outputs": [
    {
     "name": "stdout",
     "output_type": "stream",
     "text": [
      "[[1, 2], [0.0, -2.0]]\n",
      "[[1.0, 0.0], [0.0, -2.0]]\n"
     ]
    }
   ],
   "source": [
    "A = [[1,2],[3,4]]\n",
    "b = [1,2]\n",
    "\n",
    "gaussJordan(A,b)\n",
    "\n",
    "\n",
    "A = [[1,3,1],[]]\n",
    "b = [1,2]\n",
    "\n",
    "gaussJordan(A,b)"
   ]
  }
 ],
 "metadata": {
  "kernelspec": {
   "display_name": "Python 3 (ipykernel)",
   "language": "python",
   "name": "python3"
  },
  "language_info": {
   "codemirror_mode": {
    "name": "ipython",
    "version": 3
   },
   "file_extension": ".py",
   "mimetype": "text/x-python",
   "name": "python",
   "nbconvert_exporter": "python",
   "pygments_lexer": "ipython3",
   "version": "3.11.9"
  }
 },
 "nbformat": 4,
 "nbformat_minor": 5
}
