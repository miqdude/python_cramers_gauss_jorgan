{
 "cells": [
  {
   "cell_type": "markdown",
   "id": "3ff4a79d-3b4e-4fda-8df3-59a8d7129701",
   "metadata": {},
   "source": [
    "# Cramer's Rule"
   ]
  },
  {
   "cell_type": "code",
   "execution_count": 29,
   "id": "0bedd0b9-0c77-46d9-87cc-46c5f477e9dc",
   "metadata": {},
   "outputs": [],
   "source": [
    "def determinant(A):\n",
    "    if len(A) == 1:\n",
    "        return A[0][0]\n",
    "        \n",
    "    if len(A) != len(A[0]):\n",
    "        print(\"Must be a square matrix!\")\n",
    "        return\n",
    "\n",
    "    if len(A) == 2:\n",
    "        return A[0][0]*A[1][1] - A[1][0]*A[0][1]\n",
    "\n",
    "    sign = 1\n",
    "    determinantResult = 0\n",
    "    for currCol in range(len(A)):\n",
    "\n",
    "        # creating an empty 1D array\n",
    "        smallA = []\n",
    "        \n",
    "        # skipping the first row\n",
    "        for row in range(1,len(A)):\n",
    "            tmp = []\n",
    "            for col in range(0,len(A)):\n",
    "                if currCol != col:\n",
    "                    tmp.append(A[row][col])\n",
    "            smallA.append(tmp)\n",
    "\n",
    "        d = determinant(smallA)\n",
    "        determinantResult += sign * A[0][currCol] * d\n",
    "        sign = -sign\n",
    "\n",
    "    return determinantResult\n"
   ]
  },
  {
   "cell_type": "code",
   "execution_count": 30,
   "id": "ec4596d4-f8b4-4476-b12e-d92aa4a6a289",
   "metadata": {},
   "outputs": [
    {
     "name": "stdout",
     "output_type": "stream",
     "text": [
      "-3\n",
      "0\n",
      "-376\n"
     ]
    }
   ],
   "source": [
    "A = [[5,6],[8,9]]\n",
    "B = [[1,2,3],[4,5,6],[7,8,9]]\n",
    "C = [[1,3,5,9],[1,3,1,7],[4,3,9,7],[5,2,0,9]]\n",
    "print(determinant(A))\n",
    "print(determinant(B))\n",
    "print(determinant(C))\n",
    "\n"
   ]
  },
  {
   "cell_type": "code",
   "execution_count": 39,
   "id": "ef0e0480-dd28-4b32-914e-1d837b6146a8",
   "metadata": {},
   "outputs": [],
   "source": [
    "def cramersRule(A,b):\n",
    "    # x,y,z format\n",
    "    res = []\n",
    "    \n",
    "    if len(A) == 1:\n",
    "        return b/A[0][0]\n",
    "    if len(A) != len(A[0]):\n",
    "        print(\"matrix A must be square!\")\n",
    "        return []\n",
    "    \n",
    "    hasNOSolution = False\n",
    "    d = determinant(A)\n",
    "    if d == 0:\n",
    "        hasNOSolution = True\n",
    "\n",
    "    for currCol in range(len(A)):\n",
    "        dd = []\n",
    "        for row in range(len(A)):\n",
    "            tmp = []\n",
    "            for col in range(len(A)):\n",
    "                if currCol == col:\n",
    "                    tmp.append(b[col])\n",
    "                else:\n",
    "                    tmp.append(A[row][col])\n",
    "            dd.append(tmp)\n",
    "\n",
    "        determinantdd = determinant(dd)\n",
    "        print(dd)\n",
    "        if determinantdd == 0 and d == 0:\n",
    "            print(\"INFINITELY MANY SOLUTION\")\n",
    "            return\n",
    "\n",
    "        if d != 0:\n",
    "            res.append(determinantdd/d)\n",
    "\n",
    "    if hasNOSolution:\n",
    "        print(\"NO SOLUTION\")\n",
    "        return\n",
    "\n",
    "    return res\n",
    "            "
   ]
  },
  {
   "cell_type": "code",
   "execution_count": 40,
   "id": "26a4e202-b802-487e-abd2-8ddae372245f",
   "metadata": {},
   "outputs": [
    {
     "name": "stdout",
     "output_type": "stream",
     "text": [
      "-4\n",
      "-3\n",
      "[-0.8, -0.6]\n"
     ]
    }
   ],
   "source": [
    "A= [[3,-2],[4,-1]]\n",
    "b = [-4,3]\n",
    "\n",
    "print(cramersRule(A,b))"
   ]
  }
 ],
 "metadata": {
  "kernelspec": {
   "display_name": "Python 3 (ipykernel)",
   "language": "python",
   "name": "python3"
  },
  "language_info": {
   "codemirror_mode": {
    "name": "ipython",
    "version": 3
   },
   "file_extension": ".py",
   "mimetype": "text/x-python",
   "name": "python",
   "nbconvert_exporter": "python",
   "pygments_lexer": "ipython3",
   "version": "3.11.9"
  }
 },
 "nbformat": 4,
 "nbformat_minor": 5
}
